{
 "metadata": {
  "language_info": {
   "codemirror_mode": {
    "name": "ipython",
    "version": 3
   },
   "file_extension": ".py",
   "mimetype": "text/x-python",
   "name": "python",
   "nbconvert_exporter": "python",
   "pygments_lexer": "ipython3",
   "version": "3.8.5"
  },
  "orig_nbformat": 2,
  "kernelspec": {
   "name": "python385jvsc74a57bd05377e7c2a994b0c151c523f476800b5b828c3dc5d930f0e6e801d699e78c3ec6",
   "display_name": "Python 3.8.5 64-bit ('base': conda)"
  }
 },
 "nbformat": 4,
 "nbformat_minor": 2,
 "cells": [
  {
   "cell_type": "code",
   "execution_count": 15,
   "metadata": {},
   "outputs": [],
   "source": [
    "import sys\n",
    "sys.path.append(\"./deep-learning-from-scratch-2/\")\n",
    "from numpy as np\n",
    "from common.layers import *"
   ]
  },
  {
   "cell_type": "code",
   "execution_count": 18,
   "metadata": {},
   "outputs": [
    {
     "output_type": "stream",
     "name": "stdout",
     "text": [
      "[[0.65441201 0.81452086 0.48665139]]\n"
     ]
    }
   ],
   "source": [
    "import numpy as np \n",
    "\n",
    "c = np.array ([[1,0,0,0,0,0,0]])\n",
    "W = np.random.rand(7,3)\n",
    "h = np.matmul (c, W)\n",
    "print (h)"
   ]
  },
  {
   "cell_type": "code",
   "execution_count": 14,
   "metadata": {},
   "outputs": [],
   "source": [
    "import sys\n",
    "sys.path.append(\"..\")\n",
    "import numpy as np \n",
    "from common.layers import MatMul"
   ]
  },
  {
   "cell_type": "code",
   "execution_count": 20,
   "metadata": {},
   "outputs": [
    {
     "output_type": "stream",
     "name": "stdout",
     "text": [
      "[[0.7855548  0.57791862 0.724797  ]]\n"
     ]
    }
   ],
   "source": [
    "c = np.array ([[1,0,0,0,0,0,0]])\n",
    "W = np.random.rand(7,3)\n",
    "layer = MatMul (W)\n",
    "h = layer.forward(c)\n",
    "print (h)"
   ]
  },
  {
   "cell_type": "code",
   "execution_count": null,
   "metadata": {},
   "outputs": [],
   "source": []
  }
 ]
}